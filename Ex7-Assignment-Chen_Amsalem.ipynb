{
 "cells": [
  {
   "cell_type": "markdown",
   "metadata": {},
   "source": [
    "<table dir=\"ltr\" style=\"width:100%; text-align:left; direction:ltr; border:1px solid #ccc; padding:10px;\">\n",
    "<tr><td>\n",
    "\n",
    "<span style=\"font-size:26px; font-weight:bold;\">Assignment 2 – Data Analysis with Python</span><br><br>\n",
    "\n",
    "<b>Student Name:</b> Chen Amsalem<br>\n",
    "<b>Degree Program:</b> Information Systems Management<br>\n",
    "<b>Institution:</b> Ono Academic College<br>\n",
    "<b>Academic Year:</b> 2025<br>\n",
    "<b>Instructor:</b> Talia Maorahi<br>\n",
    "<b>Submission Date:</b> 14.05.2025<br><br>\n",
    "\n",
    "This assignment analyzes user data from the StudyConnect platform.  \n",
    "The analysis was conducted using the pandas library and complies with all assignment requirements.\n",
    "\n",
    "</td></tr>\n",
    "</table>\n"
   ]
  },
  {
   "cell_type": "markdown",
   "metadata": {},
   "source": [
    "<table style=\"width:100%; text-align:left; direction:ltr;\">\n",
    "<tr><td>\n",
    "\n",
    "<span style=\"font-size:22px; font-weight:bold;\">Part 1: Data Import and Structure</span><br><br>\n",
    "In this section, we import data from a CSV file, convert the date columns to the appropriate format, and present the initial structure of the dataset.\n",
    "\n",
    "</td></tr>\n",
    "</table>\n"
   ]
  },
  {
   "cell_type": "code",
   "execution_count": 27,
   "metadata": {},
   "outputs": [],
   "source": [
    "import pandas as pd\n"
   ]
  },
  {
   "cell_type": "code",
   "execution_count": 28,
   "metadata": {},
   "outputs": [],
   "source": [
    "# קריאת קובץ הנתונים\n",
    "df = pd.read_csv('StudyConnect_Users.csv')\n"
   ]
  },
  {
   "cell_type": "markdown",
   "metadata": {},
   "source": [
    "<table style=\"width:100%; text-align:left; direction:ltr;\">\n",
    "<tr><td>\n",
    "\n",
    "We will display the names of all the columns in the table to understand the full structure of the dataset.\n",
    "\n",
    "</td></tr>\n",
    "</table>\n"
   ]
  },
  {
   "cell_type": "code",
   "execution_count": 29,
   "metadata": {},
   "outputs": [
    {
     "data": {
      "text/plain": [
       "Index(['UserID', 'Name', 'Surname', 'Gender', 'BirthDate', 'City', 'Country',\n",
       "       'RegistrationDate', 'LastLoginDaysAgo', 'PremiumUser', 'FriendsCount',\n",
       "       'CoursesCompleted', 'AverageScore', 'ActiveHoursPerWeek',\n",
       "       'AccountStatus', 'MainInterest'],\n",
       "      dtype='object')"
      ]
     },
     "execution_count": 29,
     "metadata": {},
     "output_type": "execute_result"
    }
   ],
   "source": [
    "# הצגת כל עמודות הטבלה להיכרות עם המבנה המלא\n",
    "df.columns\n"
   ]
  },
  {
   "cell_type": "markdown",
   "metadata": {},
   "source": [
    "<table style=\"width:100%; text-align:left; direction:ltr;\">\n",
    "<tr><td>\n",
    "\n",
    "The <code>RegistrationDate</code> column is also included in the table – we will ensure that it contains no missing values, even though it is not actively used.\n",
    "\n",
    "</td></tr>\n",
    "</table>\n"
   ]
  },
  {
   "cell_type": "code",
   "execution_count": 30,
   "metadata": {},
   "outputs": [
    {
     "data": {
      "text/plain": [
       "np.int64(0)"
      ]
     },
     "execution_count": 30,
     "metadata": {},
     "output_type": "execute_result"
    }
   ],
   "source": [
    "df['RegistrationDate'].isnull().sum()\n"
   ]
  },
  {
   "cell_type": "markdown",
   "metadata": {},
   "source": [
    "<table dir=\"ltr\" style=\"width:100%; text-align:left; direction:ltr;\">\n",
    "<tr><td>\n",
    "\n",
    "<span style=\"font-size:18px; font-weight:bold;\">Question 4 – Display the first few rows of the table (head)</span><br><br>\n",
    "To get an initial look at the data, we display the first 5 rows of the dataset using the <code>head()</code> method.\n",
    "\n",
    "</td></tr>\n",
    "</table>\n",
    "\n"
   ]
  },
  {
   "cell_type": "code",
   "execution_count": 51,
   "metadata": {},
   "outputs": [
    {
     "data": {
      "text/html": [
       "<div>\n",
       "<style scoped>\n",
       "    .dataframe tbody tr th:only-of-type {\n",
       "        vertical-align: middle;\n",
       "    }\n",
       "\n",
       "    .dataframe tbody tr th {\n",
       "        vertical-align: top;\n",
       "    }\n",
       "\n",
       "    .dataframe thead th {\n",
       "        text-align: right;\n",
       "    }\n",
       "</style>\n",
       "<table border=\"1\" class=\"dataframe\">\n",
       "  <thead>\n",
       "    <tr style=\"text-align: right;\">\n",
       "      <th></th>\n",
       "      <th>UserID</th>\n",
       "      <th>Name</th>\n",
       "      <th>Surname</th>\n",
       "      <th>Gender</th>\n",
       "      <th>BirthDate</th>\n",
       "      <th>City</th>\n",
       "      <th>Country</th>\n",
       "      <th>RegistrationDate</th>\n",
       "      <th>LastLoginDaysAgo</th>\n",
       "      <th>PremiumUser</th>\n",
       "      <th>FriendsCount</th>\n",
       "      <th>CoursesCompleted</th>\n",
       "      <th>AverageScore</th>\n",
       "      <th>ActiveHoursPerWeek</th>\n",
       "      <th>AccountStatus</th>\n",
       "      <th>MainInterest</th>\n",
       "      <th>Age</th>\n",
       "      <th>AgeGroup</th>\n",
       "    </tr>\n",
       "  </thead>\n",
       "  <tbody>\n",
       "    <tr>\n",
       "      <th>0</th>\n",
       "      <td>10000</td>\n",
       "      <td>Ashley</td>\n",
       "      <td>Rodriguez</td>\n",
       "      <td>Other</td>\n",
       "      <td>1990-12-10</td>\n",
       "      <td>Tel Aviv</td>\n",
       "      <td>Israel</td>\n",
       "      <td>2020-04-30</td>\n",
       "      <td>31</td>\n",
       "      <td>True</td>\n",
       "      <td>305</td>\n",
       "      <td>4</td>\n",
       "      <td>62.0</td>\n",
       "      <td>21.3</td>\n",
       "      <td>Active</td>\n",
       "      <td>Data Analyst</td>\n",
       "      <td>35</td>\n",
       "      <td>Young Adults (26–35)</td>\n",
       "    </tr>\n",
       "    <tr>\n",
       "      <th>1</th>\n",
       "      <td>10001</td>\n",
       "      <td>Roy</td>\n",
       "      <td>Griffith</td>\n",
       "      <td>Male</td>\n",
       "      <td>1977-02-21</td>\n",
       "      <td>Berlin</td>\n",
       "      <td>USA</td>\n",
       "      <td>2023-06-30</td>\n",
       "      <td>27</td>\n",
       "      <td>True</td>\n",
       "      <td>178</td>\n",
       "      <td>11</td>\n",
       "      <td>90.2</td>\n",
       "      <td>28.5</td>\n",
       "      <td>Deleted</td>\n",
       "      <td>Design</td>\n",
       "      <td>48</td>\n",
       "      <td>Seniors (45+)</td>\n",
       "    </tr>\n",
       "    <tr>\n",
       "      <th>2</th>\n",
       "      <td>10002</td>\n",
       "      <td>Belinda</td>\n",
       "      <td>Collins</td>\n",
       "      <td>Female</td>\n",
       "      <td>2000-10-25</td>\n",
       "      <td>Unknown</td>\n",
       "      <td>Germany</td>\n",
       "      <td>2022-06-18</td>\n",
       "      <td>36</td>\n",
       "      <td>False</td>\n",
       "      <td>115</td>\n",
       "      <td>10</td>\n",
       "      <td>63.1</td>\n",
       "      <td>26.6</td>\n",
       "      <td>Active</td>\n",
       "      <td>Data Science</td>\n",
       "      <td>25</td>\n",
       "      <td>Young (&lt;=25)</td>\n",
       "    </tr>\n",
       "    <tr>\n",
       "      <th>3</th>\n",
       "      <td>10003</td>\n",
       "      <td>Jamie</td>\n",
       "      <td>Roberts</td>\n",
       "      <td>Female</td>\n",
       "      <td>1999-08-20</td>\n",
       "      <td>Berlin</td>\n",
       "      <td>Israel</td>\n",
       "      <td>2025-04-10</td>\n",
       "      <td>25</td>\n",
       "      <td>False</td>\n",
       "      <td>196</td>\n",
       "      <td>7</td>\n",
       "      <td>73.9</td>\n",
       "      <td>19.0</td>\n",
       "      <td>Active</td>\n",
       "      <td>Design</td>\n",
       "      <td>26</td>\n",
       "      <td>Young Adults (26–35)</td>\n",
       "    </tr>\n",
       "    <tr>\n",
       "      <th>4</th>\n",
       "      <td>10004</td>\n",
       "      <td>Lisa</td>\n",
       "      <td>Banks</td>\n",
       "      <td>Other</td>\n",
       "      <td>2005-04-07</td>\n",
       "      <td>Jerusalem</td>\n",
       "      <td>Israel</td>\n",
       "      <td>2025-04-08</td>\n",
       "      <td>43</td>\n",
       "      <td>False</td>\n",
       "      <td>311</td>\n",
       "      <td>8</td>\n",
       "      <td>77.7</td>\n",
       "      <td>26.0</td>\n",
       "      <td>Active</td>\n",
       "      <td>Marketing</td>\n",
       "      <td>20</td>\n",
       "      <td>Young (&lt;=25)</td>\n",
       "    </tr>\n",
       "  </tbody>\n",
       "</table>\n",
       "</div>"
      ],
      "text/plain": [
       "   UserID     Name    Surname  Gender   BirthDate       City  Country  \\\n",
       "0   10000   Ashley  Rodriguez   Other  1990-12-10   Tel Aviv   Israel   \n",
       "1   10001      Roy   Griffith    Male  1977-02-21     Berlin      USA   \n",
       "2   10002  Belinda    Collins  Female  2000-10-25    Unknown  Germany   \n",
       "3   10003    Jamie    Roberts  Female  1999-08-20     Berlin   Israel   \n",
       "4   10004     Lisa      Banks   Other  2005-04-07  Jerusalem   Israel   \n",
       "\n",
       "  RegistrationDate  LastLoginDaysAgo  PremiumUser  FriendsCount  \\\n",
       "0       2020-04-30                31         True           305   \n",
       "1       2023-06-30                27         True           178   \n",
       "2       2022-06-18                36        False           115   \n",
       "3       2025-04-10                25        False           196   \n",
       "4       2025-04-08                43        False           311   \n",
       "\n",
       "   CoursesCompleted  AverageScore  ActiveHoursPerWeek AccountStatus  \\\n",
       "0                 4          62.0                21.3        Active   \n",
       "1                11          90.2                28.5       Deleted   \n",
       "2                10          63.1                26.6        Active   \n",
       "3                 7          73.9                19.0        Active   \n",
       "4                 8          77.7                26.0        Active   \n",
       "\n",
       "   MainInterest  Age              AgeGroup  \n",
       "0  Data Analyst   35  Young Adults (26–35)  \n",
       "1        Design   48         Seniors (45+)  \n",
       "2  Data Science   25          Young (<=25)  \n",
       "3        Design   26  Young Adults (26–35)  \n",
       "4     Marketing   20          Young (<=25)  "
      ]
     },
     "execution_count": 51,
     "metadata": {},
     "output_type": "execute_result"
    }
   ],
   "source": [
    "df.head()\n"
   ]
  },
  {
   "cell_type": "markdown",
   "metadata": {},
   "source": [
    "<table dir=\"ltr\" style=\"width:100%; text-align:left; direction:ltr;\">\n",
    "<tr><td>\n",
    "\n",
    "<span style=\"font-size:18px; font-weight:bold;\">Question 5 – Display general information about the dataset (info)</span><br><br>\n",
    "We use the <code>info()</code> method to get a summary of the dataset, including column types, non-null counts, and memory usage.\n",
    "\n",
    "</td></tr>\n",
    "</table>\n"
   ]
  },
  {
   "cell_type": "code",
   "execution_count": 52,
   "metadata": {},
   "outputs": [
    {
     "name": "stdout",
     "output_type": "stream",
     "text": [
      "<class 'pandas.core.frame.DataFrame'>\n",
      "RangeIndex: 300 entries, 0 to 299\n",
      "Data columns (total 18 columns):\n",
      " #   Column              Non-Null Count  Dtype   \n",
      "---  ------              --------------  -----   \n",
      " 0   UserID              300 non-null    int64   \n",
      " 1   Name                300 non-null    object  \n",
      " 2   Surname             300 non-null    object  \n",
      " 3   Gender              300 non-null    object  \n",
      " 4   BirthDate           300 non-null    object  \n",
      " 5   City                300 non-null    object  \n",
      " 6   Country             300 non-null    object  \n",
      " 7   RegistrationDate    300 non-null    object  \n",
      " 8   LastLoginDaysAgo    300 non-null    int64   \n",
      " 9   PremiumUser         300 non-null    bool    \n",
      " 10  FriendsCount        300 non-null    int64   \n",
      " 11  CoursesCompleted    300 non-null    int64   \n",
      " 12  AverageScore        300 non-null    float64 \n",
      " 13  ActiveHoursPerWeek  300 non-null    float64 \n",
      " 14  AccountStatus       300 non-null    object  \n",
      " 15  MainInterest        300 non-null    object  \n",
      " 16  Age                 300 non-null    int32   \n",
      " 17  AgeGroup            300 non-null    category\n",
      "dtypes: bool(1), category(1), float64(2), int32(1), int64(4), object(9)\n",
      "memory usage: 37.2+ KB\n"
     ]
    }
   ],
   "source": [
    "df.info()"
   ]
  },
  {
   "cell_type": "markdown",
   "metadata": {},
   "source": [
    "<table dir=\"ltr\" style=\"width:100%; text-align:left; direction:ltr;\">\n",
    "<tr><td>\n",
    "\n",
    "<span style=\"font-size:18px; font-weight:bold;\">Question 6 – Display statistical summary of numeric columns (describe)</span><br><br>\n",
    "The <code>describe()</code> function provides a statistical overview of all numeric columns, including count, mean, std deviation, min, max, and quartiles.\n",
    "\n",
    "</td></tr>\n",
    "</table>"
   ]
  },
  {
   "cell_type": "code",
   "execution_count": 53,
   "metadata": {},
   "outputs": [
    {
     "data": {
      "text/html": [
       "<div>\n",
       "<style scoped>\n",
       "    .dataframe tbody tr th:only-of-type {\n",
       "        vertical-align: middle;\n",
       "    }\n",
       "\n",
       "    .dataframe tbody tr th {\n",
       "        vertical-align: top;\n",
       "    }\n",
       "\n",
       "    .dataframe thead th {\n",
       "        text-align: right;\n",
       "    }\n",
       "</style>\n",
       "<table border=\"1\" class=\"dataframe\">\n",
       "  <thead>\n",
       "    <tr style=\"text-align: right;\">\n",
       "      <th></th>\n",
       "      <th>UserID</th>\n",
       "      <th>LastLoginDaysAgo</th>\n",
       "      <th>FriendsCount</th>\n",
       "      <th>CoursesCompleted</th>\n",
       "      <th>AverageScore</th>\n",
       "      <th>ActiveHoursPerWeek</th>\n",
       "      <th>Age</th>\n",
       "    </tr>\n",
       "  </thead>\n",
       "  <tbody>\n",
       "    <tr>\n",
       "      <th>count</th>\n",
       "      <td>300.000000</td>\n",
       "      <td>300.000000</td>\n",
       "      <td>300.000000</td>\n",
       "      <td>300.000000</td>\n",
       "      <td>300.000000</td>\n",
       "      <td>300.000000</td>\n",
       "      <td>300.000000</td>\n",
       "    </tr>\n",
       "    <tr>\n",
       "      <th>mean</th>\n",
       "      <td>10149.500000</td>\n",
       "      <td>29.760000</td>\n",
       "      <td>256.903333</td>\n",
       "      <td>7.476667</td>\n",
       "      <td>77.318333</td>\n",
       "      <td>15.303667</td>\n",
       "      <td>33.870000</td>\n",
       "    </tr>\n",
       "    <tr>\n",
       "      <th>std</th>\n",
       "      <td>86.746758</td>\n",
       "      <td>17.505347</td>\n",
       "      <td>141.090571</td>\n",
       "      <td>4.678577</td>\n",
       "      <td>12.220449</td>\n",
       "      <td>8.574986</td>\n",
       "      <td>9.214633</td>\n",
       "    </tr>\n",
       "    <tr>\n",
       "      <th>min</th>\n",
       "      <td>10000.000000</td>\n",
       "      <td>0.000000</td>\n",
       "      <td>5.000000</td>\n",
       "      <td>0.000000</td>\n",
       "      <td>40.000000</td>\n",
       "      <td>0.200000</td>\n",
       "      <td>18.000000</td>\n",
       "    </tr>\n",
       "    <tr>\n",
       "      <th>25%</th>\n",
       "      <td>10074.750000</td>\n",
       "      <td>15.000000</td>\n",
       "      <td>146.500000</td>\n",
       "      <td>3.000000</td>\n",
       "      <td>70.300000</td>\n",
       "      <td>7.300000</td>\n",
       "      <td>26.750000</td>\n",
       "    </tr>\n",
       "    <tr>\n",
       "      <th>50%</th>\n",
       "      <td>10149.500000</td>\n",
       "      <td>29.000000</td>\n",
       "      <td>246.000000</td>\n",
       "      <td>7.000000</td>\n",
       "      <td>77.950000</td>\n",
       "      <td>15.450000</td>\n",
       "      <td>33.000000</td>\n",
       "    </tr>\n",
       "    <tr>\n",
       "      <th>75%</th>\n",
       "      <td>10224.250000</td>\n",
       "      <td>45.000000</td>\n",
       "      <td>382.000000</td>\n",
       "      <td>12.000000</td>\n",
       "      <td>85.400000</td>\n",
       "      <td>22.500000</td>\n",
       "      <td>42.000000</td>\n",
       "    </tr>\n",
       "    <tr>\n",
       "      <th>max</th>\n",
       "      <td>10299.000000</td>\n",
       "      <td>60.000000</td>\n",
       "      <td>499.000000</td>\n",
       "      <td>15.000000</td>\n",
       "      <td>109.400000</td>\n",
       "      <td>29.900000</td>\n",
       "      <td>51.000000</td>\n",
       "    </tr>\n",
       "  </tbody>\n",
       "</table>\n",
       "</div>"
      ],
      "text/plain": [
       "             UserID  LastLoginDaysAgo  FriendsCount  CoursesCompleted  \\\n",
       "count    300.000000        300.000000    300.000000        300.000000   \n",
       "mean   10149.500000         29.760000    256.903333          7.476667   \n",
       "std       86.746758         17.505347    141.090571          4.678577   \n",
       "min    10000.000000          0.000000      5.000000          0.000000   \n",
       "25%    10074.750000         15.000000    146.500000          3.000000   \n",
       "50%    10149.500000         29.000000    246.000000          7.000000   \n",
       "75%    10224.250000         45.000000    382.000000         12.000000   \n",
       "max    10299.000000         60.000000    499.000000         15.000000   \n",
       "\n",
       "       AverageScore  ActiveHoursPerWeek         Age  \n",
       "count    300.000000          300.000000  300.000000  \n",
       "mean      77.318333           15.303667   33.870000  \n",
       "std       12.220449            8.574986    9.214633  \n",
       "min       40.000000            0.200000   18.000000  \n",
       "25%       70.300000            7.300000   26.750000  \n",
       "50%       77.950000           15.450000   33.000000  \n",
       "75%       85.400000           22.500000   42.000000  \n",
       "max      109.400000           29.900000   51.000000  "
      ]
     },
     "execution_count": 53,
     "metadata": {},
     "output_type": "execute_result"
    }
   ],
   "source": [
    "df.describe()\n"
   ]
  },
  {
   "cell_type": "markdown",
   "metadata": {},
   "source": [
    "<table dir=\"ltr\" style=\"width:100%; text-align:left; direction:ltr;\">\n",
    "<tr><td>\n",
    "\n",
    "<span style=\"font-size:22px; font-weight:bold;\">Part 2: Handling Missing Values</span><br><br>\n",
    "At this stage, we will identify the columns that contain missing values in the table and display the number of missing entries in each column.\n",
    "\n",
    "</td></tr>\n",
    "</table>\n"
   ]
  },
  {
   "cell_type": "code",
   "execution_count": 31,
   "metadata": {},
   "outputs": [
    {
     "data": {
      "text/plain": [
       "UserID                 0\n",
       "Name                   0\n",
       "Surname                0\n",
       "Gender                 0\n",
       "BirthDate              0\n",
       "City                  32\n",
       "Country                0\n",
       "RegistrationDate       0\n",
       "LastLoginDaysAgo       0\n",
       "PremiumUser            0\n",
       "FriendsCount           0\n",
       "CoursesCompleted       0\n",
       "AverageScore           0\n",
       "ActiveHoursPerWeek     0\n",
       "AccountStatus          0\n",
       "MainInterest           0\n",
       "dtype: int64"
      ]
     },
     "execution_count": 31,
     "metadata": {},
     "output_type": "execute_result"
    }
   ],
   "source": [
    "# הצגת מספר הערכים החסרים בכל עמודה\n",
    "df.isnull().sum()\n"
   ]
  },
  {
   "cell_type": "code",
   "execution_count": 32,
   "metadata": {},
   "outputs": [],
   "source": [
    "# הסרת שורות עם ערכים חסרים (אופציונלי)\n",
    "# df = df.dropna()\n"
   ]
  },
  {
   "cell_type": "code",
   "execution_count": 33,
   "metadata": {},
   "outputs": [
    {
     "data": {
      "text/plain": [
       "UserID                 0.000000\n",
       "Name                   0.000000\n",
       "Surname                0.000000\n",
       "Gender                 0.000000\n",
       "BirthDate              0.000000\n",
       "City                  10.666667\n",
       "Country                0.000000\n",
       "RegistrationDate       0.000000\n",
       "LastLoginDaysAgo       0.000000\n",
       "PremiumUser            0.000000\n",
       "FriendsCount           0.000000\n",
       "CoursesCompleted       0.000000\n",
       "AverageScore           0.000000\n",
       "ActiveHoursPerWeek     0.000000\n",
       "AccountStatus          0.000000\n",
       "MainInterest           0.000000\n",
       "dtype: float64"
      ]
     },
     "execution_count": 33,
     "metadata": {},
     "output_type": "execute_result"
    }
   ],
   "source": [
    "# חישוב אחוז הערכים החסרים בכל עמודה\n",
    "(df.isnull().sum() / len(df)) * 100\n"
   ]
  },
  {
   "cell_type": "code",
   "execution_count": 34,
   "metadata": {},
   "outputs": [],
   "source": [
    "df['City'] = df['City'].fillna('Unknown')\n"
   ]
  },
  {
   "cell_type": "markdown",
   "metadata": {},
   "source": [
    "בדיקה"
   ]
  },
  {
   "cell_type": "code",
   "execution_count": 35,
   "metadata": {},
   "outputs": [
    {
     "data": {
      "text/plain": [
       "np.int64(0)"
      ]
     },
     "execution_count": 35,
     "metadata": {},
     "output_type": "execute_result"
    }
   ],
   "source": [
    "df['City'].isnull().sum()\n"
   ]
  },
  {
   "cell_type": "markdown",
   "metadata": {},
   "source": [
    "<table dir=\"ltr\" style=\"width:100%; text-align:left; direction:ltr;\">\n",
    "<tr><td>\n",
    "\n",
    "<span style=\"font-size:22px; font-weight:bold;\">Part 3: Basic Exploration</span><br><br>\n",
    "In this section, we will perform initial explorations of the existing data in order to understand the main distributions among the users.\n",
    "\n",
    "</td></tr>\n",
    "</table>\n"
   ]
  },
  {
   "cell_type": "markdown",
   "metadata": {},
   "source": [
    "<table dir=\"ltr\" style=\"width:100%; text-align:left; direction:ltr;\">\n",
    "<tr><td>\n",
    "\n",
    "<span style=\"font-size:18px; font-weight:bold;\">Question 1 – How many users are Premium subscribers?</span><br><br>\n",
    "We will check how many users have a Premium subscription (`True`) and how many do not.\n",
    "\n",
    "</td></tr>\n",
    "</table>\n"
   ]
  },
  {
   "cell_type": "code",
   "execution_count": 36,
   "metadata": {},
   "outputs": [
    {
     "data": {
      "text/plain": [
       "PremiumUser\n",
       "False    219\n",
       "True      81\n",
       "Name: count, dtype: int64"
      ]
     },
     "execution_count": 36,
     "metadata": {},
     "output_type": "execute_result"
    }
   ],
   "source": [
    "# מספר משתמשים פרימיום ולא-פרימיום\n",
    "df['PremiumUser'].value_counts()\n"
   ]
  },
  {
   "cell_type": "markdown",
   "metadata": {},
   "source": [
    "<table dir=\"ltr\" style=\"width:100%; text-align:left; direction:ltr;\">\n",
    "<tr><td>\n",
    "\n",
    "<span style=\"font-size:18px; font-weight:bold;\">Question 2 – How many users are there from each country?</span><br><br>\n",
    "We will count the number of users from each country based on the `Country` column.\n",
    "\n",
    "</td></tr>\n",
    "</table>\n"
   ]
  },
  {
   "cell_type": "code",
   "execution_count": 37,
   "metadata": {},
   "outputs": [
    {
     "data": {
      "text/plain": [
       "Country\n",
       "Israel     82\n",
       "Germany    79\n",
       "USA        71\n",
       "India      68\n",
       "Name: count, dtype: int64"
      ]
     },
     "execution_count": 37,
     "metadata": {},
     "output_type": "execute_result"
    }
   ],
   "source": [
    "# ספירת משתמשים לפי מדינה\n",
    "df['Country'].value_counts()\n"
   ]
  },
  {
   "cell_type": "markdown",
   "metadata": {},
   "source": [
    "<table dir=\"ltr\" style=\"width:100%; text-align:left; direction:ltr;\">\n",
    "<tr><td>\n",
    "\n",
    "<span style=\"font-size:18px; font-weight:bold;\">Question 3 – How many users are there for each account status?</span><br><br>\n",
    "We will display the distribution based on the `AccountStatus` column.\n",
    "\n",
    "</td></tr>\n",
    "</table>\n"
   ]
  },
  {
   "cell_type": "code",
   "execution_count": 38,
   "metadata": {},
   "outputs": [
    {
     "data": {
      "text/plain": [
       "AccountStatus\n",
       "Active       251\n",
       "Suspended     27\n",
       "Deleted       22\n",
       "Name: count, dtype: int64"
      ]
     },
     "execution_count": 38,
     "metadata": {},
     "output_type": "execute_result"
    }
   ],
   "source": [
    "# התפלגות סטטוס חשבון\n",
    "df['AccountStatus'].value_counts()\n"
   ]
  },
  {
   "cell_type": "markdown",
   "metadata": {},
   "source": [
    "<table dir=\"ltr\" style=\"width:100%; text-align:left; direction:ltr;\">\n",
    "<tr><td>\n",
    "\n",
    "<span style=\"font-size:18px; font-weight:bold;\">Question 4 – What is the average score by gender?</span><br><br>\n",
    "We will calculate the average score based on the `Gender` column, to see if there are differences between gender groups.\n",
    "\n",
    "</td></tr>\n",
    "</table>\n"
   ]
  },
  {
   "cell_type": "code",
   "execution_count": 39,
   "metadata": {},
   "outputs": [
    {
     "data": {
      "text/plain": [
       "Gender\n",
       "Female    78.051261\n",
       "Male      79.195506\n",
       "Other     74.554348\n",
       "Name: AverageScore, dtype: float64"
      ]
     },
     "execution_count": 39,
     "metadata": {},
     "output_type": "execute_result"
    }
   ],
   "source": [
    "# ממוצע ציון לפי Gender\n",
    "df.groupby('Gender')['AverageScore'].mean()\n"
   ]
  },
  {
   "cell_type": "markdown",
   "metadata": {},
   "source": [
    "<table dir=\"ltr\" style=\"width:100%; text-align:left; direction:ltr;\">\n",
    "<tr><td>\n",
    "\n",
    "<span style=\"font-size:18px; font-weight:bold;\">Question 5 – How many users haven't logged in for 30 days or more?</span><br><br>\n",
    "We will check how many users have not logged in for 30 days or more, based on the `LastLoginInDaysAgo` column.\n",
    "\n",
    "</td></tr>\n",
    "</table>\n"
   ]
  },
  {
   "cell_type": "code",
   "execution_count": 40,
   "metadata": {},
   "outputs": [
    {
     "data": {
      "text/plain": [
       "149"
      ]
     },
     "execution_count": 40,
     "metadata": {},
     "output_type": "execute_result"
    }
   ],
   "source": [
    "# ספירת משתמשים שלא התחברו 30 יום או יותר\n",
    "df[df['LastLoginDaysAgo'] >= 30].shape[0]\n"
   ]
  },
  {
   "cell_type": "markdown",
   "metadata": {},
   "source": [
    "<table dir=\"ltr\" style=\"width:100%; text-align:left; direction:ltr;\">\n",
    "<tr><td>\n",
    "\n",
    "<span style=\"font-size:22px; font-weight:bold;\">Part 4: Advanced Exploration</span><br><br>\n",
    "In this section, we will conduct deeper analysis of the data through grouping and comparisons based on key attributes – such as country, account status, and gender.  \n",
    "We will examine trends by areas of interest and their impact on user behavior.\n",
    "\n",
    "</td></tr>\n",
    "</table>\n"
   ]
  },
  {
   "cell_type": "markdown",
   "metadata": {},
   "source": [
    "<table dir=\"ltr\" style=\"width:100%; text-align:left; direction:ltr;\">\n",
    "<tr><td>\n",
    "\n",
    "<span style=\"font-size:18px; font-weight:bold;\">Question 1 – What is the average score by country?</span><br><br>\n",
    "We will calculate the average score (`AverageScore`) for each country (`Country`) to examine whether there are differences between countries.\n",
    "\n",
    "</td></tr>\n",
    "</table>\n"
   ]
  },
  {
   "cell_type": "code",
   "execution_count": 41,
   "metadata": {},
   "outputs": [
    {
     "data": {
      "text/plain": [
       "Country\n",
       "India      79.319118\n",
       "USA        77.678873\n",
       "Germany    76.864557\n",
       "Israel     75.784146\n",
       "Name: AverageScore, dtype: float64"
      ]
     },
     "execution_count": 41,
     "metadata": {},
     "output_type": "execute_result"
    }
   ],
   "source": [
    "df.groupby('Country')['AverageScore'].mean().sort_values(ascending=False)\n"
   ]
  },
  {
   "cell_type": "markdown",
   "metadata": {},
   "source": [
    "<table dir=\"ltr\" style=\"width:100%; text-align:left; direction:ltr;\">\n",
    "<tr><td>\n",
    "\n",
    "<span style=\"font-size:18px; font-weight:bold;\">Question 2 – What is the average number of friends by account status?</span><br><br>\n",
    "We will calculate the average number of friends (`FriendsCount`) for each value in the `AccountStatus` column, to determine whether there are differences between active, suspended, or frozen users.\n",
    "\n",
    "</td></tr>\n",
    "</table>\n"
   ]
  },
  {
   "cell_type": "code",
   "execution_count": 42,
   "metadata": {},
   "outputs": [
    {
     "data": {
      "text/plain": [
       "AccountStatus\n",
       "Suspended    276.185185\n",
       "Active       256.709163\n",
       "Deleted      235.454545\n",
       "Name: FriendsCount, dtype: float64"
      ]
     },
     "execution_count": 42,
     "metadata": {},
     "output_type": "execute_result"
    }
   ],
   "source": [
    "df.groupby('AccountStatus')['FriendsCount'].mean().sort_values(ascending=False)\n"
   ]
  },
  {
   "cell_type": "markdown",
   "metadata": {},
   "source": [
    "<table dir=\"ltr\" style=\"width:100%; text-align:left; direction:ltr;\">\n",
    "<tr><td>\n",
    "\n",
    "<span style=\"font-size:18px; font-weight:bold;\">Question 3 – What is the distribution of main interests by gender?</span><br><br>\n",
    "We will examine how the main interests (`MainInterest`) are distributed across different gender groups (`Gender`).\n",
    "\n",
    "</td></tr>\n",
    "</table>\n"
   ]
  },
  {
   "cell_type": "code",
   "execution_count": 43,
   "metadata": {},
   "outputs": [
    {
     "data": {
      "text/html": [
       "<div>\n",
       "<style scoped>\n",
       "    .dataframe tbody tr th:only-of-type {\n",
       "        vertical-align: middle;\n",
       "    }\n",
       "\n",
       "    .dataframe tbody tr th {\n",
       "        vertical-align: top;\n",
       "    }\n",
       "\n",
       "    .dataframe thead th {\n",
       "        text-align: right;\n",
       "    }\n",
       "</style>\n",
       "<table border=\"1\" class=\"dataframe\">\n",
       "  <thead>\n",
       "    <tr style=\"text-align: right;\">\n",
       "      <th>MainInterest</th>\n",
       "      <th>Cybersecurity</th>\n",
       "      <th>Data Analyst</th>\n",
       "      <th>Data Science</th>\n",
       "      <th>Design</th>\n",
       "      <th>Marketing</th>\n",
       "    </tr>\n",
       "    <tr>\n",
       "      <th>Gender</th>\n",
       "      <th></th>\n",
       "      <th></th>\n",
       "      <th></th>\n",
       "      <th></th>\n",
       "      <th></th>\n",
       "    </tr>\n",
       "  </thead>\n",
       "  <tbody>\n",
       "    <tr>\n",
       "      <th>Female</th>\n",
       "      <td>27</td>\n",
       "      <td>22</td>\n",
       "      <td>24</td>\n",
       "      <td>25</td>\n",
       "      <td>21</td>\n",
       "    </tr>\n",
       "    <tr>\n",
       "      <th>Male</th>\n",
       "      <td>25</td>\n",
       "      <td>13</td>\n",
       "      <td>12</td>\n",
       "      <td>24</td>\n",
       "      <td>15</td>\n",
       "    </tr>\n",
       "    <tr>\n",
       "      <th>Other</th>\n",
       "      <td>17</td>\n",
       "      <td>13</td>\n",
       "      <td>19</td>\n",
       "      <td>22</td>\n",
       "      <td>21</td>\n",
       "    </tr>\n",
       "  </tbody>\n",
       "</table>\n",
       "</div>"
      ],
      "text/plain": [
       "MainInterest  Cybersecurity  Data Analyst  Data Science  Design  Marketing\n",
       "Gender                                                                    \n",
       "Female                   27            22            24      25         21\n",
       "Male                     25            13            12      24         15\n",
       "Other                    17            13            19      22         21"
      ]
     },
     "execution_count": 43,
     "metadata": {},
     "output_type": "execute_result"
    }
   ],
   "source": [
    "pd.crosstab(df['Gender'], df['MainInterest'])\n"
   ]
  },
  {
   "cell_type": "markdown",
   "metadata": {},
   "source": [
    "<table dir=\"ltr\" style=\"width:100%; text-align:left; direction:ltr;\">\n",
    "<tr><td>\n",
    "\n",
    "<span style=\"font-size:18px; font-weight:bold;\">Question 4 – Who invests more weekly hours – men or women?</span><br><br>\n",
    "We will examine the average weekly active hours (`ActiveHoursPerWeek`) by `Gender`.\n",
    "\n",
    "</td></tr>\n",
    "</table>\n"
   ]
  },
  {
   "cell_type": "code",
   "execution_count": 44,
   "metadata": {},
   "outputs": [
    {
     "data": {
      "text/plain": [
       "Gender\n",
       "Female    16.616807\n",
       "Male      15.207865\n",
       "Other     13.697826\n",
       "Name: ActiveHoursPerWeek, dtype: float64"
      ]
     },
     "execution_count": 44,
     "metadata": {},
     "output_type": "execute_result"
    }
   ],
   "source": [
    "df.groupby('Gender')['ActiveHoursPerWeek'].mean()\n"
   ]
  },
  {
   "cell_type": "markdown",
   "metadata": {},
   "source": [
    "<table dir=\"ltr\" style=\"width:100%; text-align:left; direction:ltr;\">\n",
    "<tr><td>\n",
    "\n",
    "<span style=\"font-size:22px; font-weight:bold;\">Part 5: Distribution by Age Groups</span>\n",
    "\n",
    "</td></tr>\n",
    "</table>\n"
   ]
  },
  {
   "cell_type": "markdown",
   "metadata": {},
   "source": [
    "<table dir=\"ltr\" style=\"width:100%; text-align:left; direction:ltr;\">\n",
    "<tr><td>\n",
    "\n",
    "<span style=\"font-size:18px; font-weight:bold;\">Question 1 – What are the `cut` and `qcut` methods in pandas?</span><br><br>\n",
    "\n",
    "<b>1. pd.cut – Binning by fixed ranges:</b><br>\n",
    "This method allows dividing a numerical column (such as age or income) into predefined ranges.<br>\n",
    "It is useful when you want to create precise categories, such as: \"up to age 25\", \"26–35\", etc.<br><br>\n",
    "\n",
    "<b>Example usage:</b><br>\n",
    "<code>pd.cut(df['Age'], bins=[0, 25, 35, 45, 120], labels=['Young', 'Young-Adults', 'Adults', 'Seniors'])</code><br><br>\n",
    "\n",
    "<b>2. pd.qcut – Binning by quantiles:</b><br>\n",
    "`qcut` divides the values into *n* groups of approximately equal size (each group contains a similar number of entries), based on percentiles.<br>\n",
    "This is especially suitable when there are no clear ranges and you want to divide a population into quartiles or deciles.<br><br>\n",
    "\n",
    "<b>Example usage:</b><br>\n",
    "<code>pd.qcut(df['Income'], q=4, labels=['Low', 'Mid-Low', 'Mid-High', 'High'])</code><br><br>\n",
    "\n",
    "<b>Summary:</b><br>\n",
    "<ul>\n",
    "<li><b>cut</b> – based on fixed, predefined intervals.</li>\n",
    "<li><b>qcut</b> – based on equal-sized statistical distribution of entries.</li>\n",
    "</ul>\n",
    "\n",
    "</td></tr>\n",
    "</table>\n"
   ]
  },
  {
   "cell_type": "markdown",
   "metadata": {},
   "source": [
    "<table dir=\"ltr\" style=\"width:100%; text-align:left; direction:ltr;\">\n",
    "<tr><td>\n",
    "\n",
    "<span style=\"font-size:18px; font-weight:bold;\">Question 2 – What is the average weekly activity level by age group?</span><br><br>\n",
    "At this stage, we will calculate the average weekly active hours (`ActiveHoursPerWeek`) for each age group (`AgeGroup`) in order to identify behavioral and engagement differences across age segments.\n",
    "\n",
    "</td></tr>\n",
    "</table>\n"
   ]
  },
  {
   "cell_type": "code",
   "execution_count": 45,
   "metadata": {},
   "outputs": [],
   "source": [
    "from datetime import datetime\n",
    "df['Age'] = datetime.now().year - pd.to_datetime(df['BirthDate']).dt.year\n"
   ]
  },
  {
   "cell_type": "code",
   "execution_count": 46,
   "metadata": {},
   "outputs": [],
   "source": [
    "bins = [0, 25, 35, 45, 120]\n",
    "labels = ['צעירים (עד 25)', 'מבוגרים צעירים (26–35)', 'מבוגרים (36–45)', 'וותיקים (מעל 45)']\n",
    "df['AgeGroup'] = pd.cut(df['Age'], bins=bins, labels=labels)\n"
   ]
  },
  {
   "cell_type": "code",
   "execution_count": 47,
   "metadata": {},
   "outputs": [
    {
     "data": {
      "text/plain": [
       "AgeGroup\n",
       "צעירים (עד 25)            16.870149\n",
       "מבוגרים צעירים (26–35)    15.616822\n",
       "מבוגרים (36–45)           14.729268\n",
       "וותיקים (מעל 45)          13.227273\n",
       "Name: ActiveHoursPerWeek, dtype: float64"
      ]
     },
     "execution_count": 47,
     "metadata": {},
     "output_type": "execute_result"
    }
   ],
   "source": [
    "df.groupby('AgeGroup', observed=True)['ActiveHoursPerWeek'].mean().sort_values(ascending=False)\n"
   ]
  },
  {
   "cell_type": "markdown",
   "metadata": {},
   "source": [
    "<table dir=\"ltr\" style=\"width:100%; text-align:left; direction:ltr;\">\n",
    "<tr><td>\n",
    "\n",
    "<span style=\"font-size:18px; font-weight:bold;\">Question 3 – What is the percentage of Premium users in each age group?</span><br><br>\n",
    "We will calculate the percentage of users with the value <code>PremiumUser = 1</code> in each age group.  \n",
    "The goal is to examine whether certain age groups are more likely to pay for services than others — an insight that can support targeted marketing strategies.\n",
    "\n",
    "</td></tr>\n",
    "</table>\n"
   ]
  },
  {
   "cell_type": "code",
   "execution_count": 48,
   "metadata": {},
   "outputs": [
    {
     "data": {
      "text/plain": [
       "AgeGroup\n",
       "וותיקים (מעל 45)          34.090909\n",
       "מבוגרים (36–45)           29.268293\n",
       "מבוגרים צעירים (26–35)    27.102804\n",
       "צעירים (עד 25)            19.402985\n",
       "Name: PremiumUser, dtype: float64"
      ]
     },
     "execution_count": 48,
     "metadata": {},
     "output_type": "execute_result"
    }
   ],
   "source": [
    "# בכל קבוצת גיל (ערך 1 מציין משתמש בתשלום) – ממוצע PremiumUser\n",
    "df.groupby('AgeGroup', observed=True)['PremiumUser'].mean().sort_values(ascending=False) * 100\n"
   ]
  },
  {
   "cell_type": "code",
   "execution_count": 49,
   "metadata": {},
   "outputs": [
    {
     "name": "stdout",
     "output_type": "stream",
     "text": [
      "Requirement already satisfied: matplotlib in /Library/Frameworks/Python.framework/Versions/3.13/lib/python3.13/site-packages (3.10.3)\n",
      "Requirement already satisfied: contourpy>=1.0.1 in /Library/Frameworks/Python.framework/Versions/3.13/lib/python3.13/site-packages (from matplotlib) (1.3.2)\n",
      "Requirement already satisfied: cycler>=0.10 in /Library/Frameworks/Python.framework/Versions/3.13/lib/python3.13/site-packages (from matplotlib) (0.12.1)\n",
      "Requirement already satisfied: fonttools>=4.22.0 in /Library/Frameworks/Python.framework/Versions/3.13/lib/python3.13/site-packages (from matplotlib) (4.58.0)\n",
      "Requirement already satisfied: kiwisolver>=1.3.1 in /Library/Frameworks/Python.framework/Versions/3.13/lib/python3.13/site-packages (from matplotlib) (1.4.8)\n",
      "Requirement already satisfied: numpy>=1.23 in /Library/Frameworks/Python.framework/Versions/3.13/lib/python3.13/site-packages (from matplotlib) (2.2.5)\n",
      "Requirement already satisfied: packaging>=20.0 in /Library/Frameworks/Python.framework/Versions/3.13/lib/python3.13/site-packages (from matplotlib) (24.2)\n",
      "Requirement already satisfied: pillow>=8 in /Library/Frameworks/Python.framework/Versions/3.13/lib/python3.13/site-packages (from matplotlib) (11.2.1)\n",
      "Requirement already satisfied: pyparsing>=2.3.1 in /Library/Frameworks/Python.framework/Versions/3.13/lib/python3.13/site-packages (from matplotlib) (3.2.3)\n",
      "Requirement already satisfied: python-dateutil>=2.7 in /Library/Frameworks/Python.framework/Versions/3.13/lib/python3.13/site-packages (from matplotlib) (2.9.0.post0)\n",
      "Requirement already satisfied: six>=1.5 in /Library/Frameworks/Python.framework/Versions/3.13/lib/python3.13/site-packages (from python-dateutil>=2.7->matplotlib) (1.17.0)\n"
     ]
    }
   ],
   "source": [
    "!pip install matplotlib\n"
   ]
  },
  {
   "cell_type": "code",
   "execution_count": 50,
   "metadata": {},
   "outputs": [
    {
     "data": {
      "image/png": "[encoded data removed]",
      "text/plain": [
       "<Figure size 640x480 with 1 Axes>"
      ]
     },
     "metadata": {},
     "output_type": "display_data"
    }
   ],
   "source": [
    "import matplotlib.pyplot as plt\n",
    "import matplotlib\n",
    "\n",
    "# Set default font to support English display\n",
    "matplotlib.rcParams['font.family'] = 'DejaVu Sans'\n",
    "matplotlib.rcParams['axes.unicode_minus'] = False\n",
    "\n",
    "# Define English labels for age groups\n",
    "bins = [0, 25, 35, 45, 120]\n",
    "labels = ['Young (<=25)', 'Young Adults (26–35)', 'Adults (36–45)', 'Seniors (45+)']\n",
    "\n",
    "# Recalculate age and age group\n",
    "df['Age'] = datetime.now().year - pd.to_datetime(df['BirthDate']).dt.year\n",
    "df['AgeGroup'] = pd.cut(df['Age'], bins=bins, labels=labels)\n",
    "\n",
    "# Calculate premium user rate per group\n",
    "grouped = df.groupby('AgeGroup', observed=True)['PremiumUser'].mean().sort_values(ascending=False) * 100\n",
    "\n",
    "# Plot the pie chart in English\n",
    "grouped.plot(\n",
    "    kind='pie',\n",
    "    autopct='%1.1f%%',\n",
    "    startangle=90,\n",
    "    ylabel='',\n",
    "    title='Premium User Rate by Age Group'\n",
    ")\n",
    "\n",
    "plt.tight_layout()\n",
    "plt.show()\n"
   ]
  },
  {
   "cell_type": "markdown",
   "metadata": {},
   "source": [
    "<table dir=\"ltr\" style=\"width:100%; text-align:left; direction:ltr;\">\n",
    "<tr><td>\n",
    "\n",
    "<span style=\"font-size:22px; font-weight:bold;\">Part 6: Conclusions</span><br><br>\n",
    "\n",
    "<b>Key Insights:</b><br>\n",
    "• The oldest age group (above 45) had the highest percentage of Premium users – about 34%, compared to approximately 17% among the youngest group.<br>\n",
    "• The youngest age group (up to age 25) invested over 16 weekly active hours on average – the highest among all groups.<br>\n",
    "• About 10% of the values in the `City` column were missing, while no significant missing data was found in other columns.<br><br>\n",
    "\n",
    "<b>Recommendation for improving app performance:</b><br>\n",
    "Focus marketing efforts on the older user group, due to their higher willingness to pay.  \n",
    "At the same time, develop interactive and community-based content for younger users to help convert their high engagement into paid services.\n",
    "\n",
    "</td></tr>\n",
    "</table>\n"
   ]
  },
  {
   "cell_type": "markdown",
   "metadata": {},
   "source": [
    "<table dir=\"ltr\" style=\"width:100%; text-align:left; direction:ltr;\">\n",
    "<tr><td>\n",
    "\n",
    "<span style=\"font-size:22px; font-weight:bold;\">Declaration of Artificial Intelligence (AI) Tool Usage</span><br><br>\n",
    "\n",
    "During the preparation of this assignment, controlled and thoughtful use of ChatGPT (GPT-4 version by OpenAI) was made for specific assistance in the following stages:<br><br>\n",
    "\n",
    "• Receiving explanations about the <code>cut</code> and <code>qcut</code> functions from the pandas library, including practical examples and business context.<br>\n",
    "• Drafting textual components in HTML/Markdown format – particularly titles, introductions, and general insights for the conclusion.<br>\n",
    "• Preliminary review of the notebook structure and ensuring that all requirements were met (including use of required keywords).<br>\n",
    "• Planning graphs and code structure using functions such as <code>groupby</code>, <code>mean</code>, <code>sort_values</code>, and <code>plot</code>.<br><br>\n",
    "\n",
    "All code was written and tested independently by me in a Jupyter Notebook environment, with full understanding of the logic, data processing, and question output.\n",
    "\n",
    "The use of GPT was strictly as an auxiliary tool and not a substitute for learning, development, or execution.\n",
    "\n",
    "</td></tr>\n",
    "</table>\n"
   ]
  }
 ],
 "metadata": {
  "kernelspec": {
   "display_name": "Python 3.13 (Chen)",
   "language": "python",
   "name": "python313"
  },
  "language_info": {
   "codemirror_mode": {
    "name": "ipython",
    "version": 3
   },
   "file_extension": ".py",
   "mimetype": "text/x-python",
   "name": "python",
   "nbconvert_exporter": "python",
   "pygments_lexer": "ipython3",
   "version": "3.13.2"
  }
 },
 "nbformat": 4,
 "nbformat_minor": 4
}
